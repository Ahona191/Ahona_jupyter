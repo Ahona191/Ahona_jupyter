{
 "cells": [
  {
   "cell_type": "markdown",
   "id": "0158d6dc-a810-44f0-be2a-41f7a8e09cce",
   "metadata": {},
   "source": [
    "# **Import Necessary Libraries**\n",
    "\n"
   ]
  },
  {
   "cell_type": "code",
   "execution_count": 1,
   "id": "e784d504-f15f-423e-9219-3ba6a412eacc",
   "metadata": {},
   "outputs": [],
   "source": [
    "import pandas as pd \n",
    "from sklearn.datasets import make_classification \n",
    "from sklearn.model_selection import train_test_split"
   ]
  },
  {
   "cell_type": "markdown",
   "id": "9f0167dc-d78d-4f4a-a0ff-6d39ec248897",
   "metadata": {},
   "source": [
    "# **Create a synthetic dataset for demonstration**"
   ]
  },
  {
   "cell_type": "code",
   "execution_count": 2,
   "id": "53de7cd0-21c9-483d-b33c-8c2607d10009",
   "metadata": {},
   "outputs": [],
   "source": [
    "x,y=make_classification(n_samples=1000, n_features=10,n_classes=2, random_state=42)"
   ]
  },
  {
   "cell_type": "code",
   "execution_count": 5,
   "id": "61b19668-3640-468b-80d5-b6c9613c077d",
   "metadata": {},
   "outputs": [
    {
     "data": {
      "text/plain": [
       "array([[ 0.96479937, -0.06644898,  0.98676805, ..., -1.2101605 ,\n",
       "        -0.62807677,  1.22727382],\n",
       "       [-0.91651053, -0.56639459, -1.00861409, ..., -0.98453405,\n",
       "         0.36389642,  0.20947008],\n",
       "       [-0.10948373, -0.43277388, -0.4576493 , ..., -0.2463834 ,\n",
       "        -1.05814521, -0.29737608],\n",
       "       ...,\n",
       "       [ 1.67463306,  1.75493307,  1.58615382, ...,  0.69272276,\n",
       "        -1.50384972,  0.22526412],\n",
       "       [-0.77860873, -0.83568901, -0.19484228, ..., -0.49735437,\n",
       "         2.47213818,  0.86718741],\n",
       "       [ 0.24845351, -1.0034389 ,  0.36046013, ...,  0.77323999,\n",
       "         0.1857344 ,  1.41641179]])"
      ]
     },
     "execution_count": 5,
     "metadata": {},
     "output_type": "execute_result"
    }
   ],
   "source": [
    "x"
   ]
  },
  {
   "cell_type": "code",
   "execution_count": 6,
   "id": "3bbef6bc-bb32-4949-9f6e-7cf507f68ab0",
   "metadata": {},
   "outputs": [
    {
     "data": {
      "text/html": [
       "<div>\n",
       "<style scoped>\n",
       "    .dataframe tbody tr th:only-of-type {\n",
       "        vertical-align: middle;\n",
       "    }\n",
       "\n",
       "    .dataframe tbody tr th {\n",
       "        vertical-align: top;\n",
       "    }\n",
       "\n",
       "    .dataframe thead th {\n",
       "        text-align: right;\n",
       "    }\n",
       "</style>\n",
       "<table border=\"1\" class=\"dataframe\">\n",
       "  <thead>\n",
       "    <tr style=\"text-align: right;\">\n",
       "      <th></th>\n",
       "      <th>0</th>\n",
       "      <th>1</th>\n",
       "      <th>2</th>\n",
       "      <th>3</th>\n",
       "      <th>4</th>\n",
       "      <th>5</th>\n",
       "      <th>6</th>\n",
       "      <th>7</th>\n",
       "      <th>8</th>\n",
       "      <th>9</th>\n",
       "    </tr>\n",
       "  </thead>\n",
       "  <tbody>\n",
       "    <tr>\n",
       "      <th>0</th>\n",
       "      <td>0.964799</td>\n",
       "      <td>-0.066449</td>\n",
       "      <td>0.986768</td>\n",
       "      <td>-0.358079</td>\n",
       "      <td>0.997266</td>\n",
       "      <td>1.181890</td>\n",
       "      <td>-1.615679</td>\n",
       "      <td>-1.210161</td>\n",
       "      <td>-0.628077</td>\n",
       "      <td>1.227274</td>\n",
       "    </tr>\n",
       "    <tr>\n",
       "      <th>1</th>\n",
       "      <td>-0.916511</td>\n",
       "      <td>-0.566395</td>\n",
       "      <td>-1.008614</td>\n",
       "      <td>0.831617</td>\n",
       "      <td>-1.176962</td>\n",
       "      <td>1.820544</td>\n",
       "      <td>1.752375</td>\n",
       "      <td>-0.984534</td>\n",
       "      <td>0.363896</td>\n",
       "      <td>0.209470</td>\n",
       "    </tr>\n",
       "    <tr>\n",
       "      <th>2</th>\n",
       "      <td>-0.109484</td>\n",
       "      <td>-0.432774</td>\n",
       "      <td>-0.457649</td>\n",
       "      <td>0.793818</td>\n",
       "      <td>-0.268646</td>\n",
       "      <td>-1.836360</td>\n",
       "      <td>1.239086</td>\n",
       "      <td>-0.246383</td>\n",
       "      <td>-1.058145</td>\n",
       "      <td>-0.297376</td>\n",
       "    </tr>\n",
       "    <tr>\n",
       "      <th>3</th>\n",
       "      <td>1.750412</td>\n",
       "      <td>2.023606</td>\n",
       "      <td>1.688159</td>\n",
       "      <td>0.006800</td>\n",
       "      <td>-1.607661</td>\n",
       "      <td>0.184741</td>\n",
       "      <td>-2.619427</td>\n",
       "      <td>-0.357445</td>\n",
       "      <td>-1.473127</td>\n",
       "      <td>-0.190039</td>\n",
       "    </tr>\n",
       "    <tr>\n",
       "      <th>4</th>\n",
       "      <td>-0.224726</td>\n",
       "      <td>-0.711303</td>\n",
       "      <td>-0.220778</td>\n",
       "      <td>0.117124</td>\n",
       "      <td>1.536061</td>\n",
       "      <td>0.597538</td>\n",
       "      <td>0.348645</td>\n",
       "      <td>-0.939156</td>\n",
       "      <td>0.175915</td>\n",
       "      <td>0.236224</td>\n",
       "    </tr>\n",
       "    <tr>\n",
       "      <th>...</th>\n",
       "      <td>...</td>\n",
       "      <td>...</td>\n",
       "      <td>...</td>\n",
       "      <td>...</td>\n",
       "      <td>...</td>\n",
       "      <td>...</td>\n",
       "      <td>...</td>\n",
       "      <td>...</td>\n",
       "      <td>...</td>\n",
       "      <td>...</td>\n",
       "    </tr>\n",
       "    <tr>\n",
       "      <th>995</th>\n",
       "      <td>-1.367638</td>\n",
       "      <td>1.462255</td>\n",
       "      <td>-1.154918</td>\n",
       "      <td>-0.290454</td>\n",
       "      <td>-0.413424</td>\n",
       "      <td>0.032396</td>\n",
       "      <td>1.545490</td>\n",
       "      <td>1.428760</td>\n",
       "      <td>1.687092</td>\n",
       "      <td>1.072542</td>\n",
       "    </tr>\n",
       "    <tr>\n",
       "      <th>996</th>\n",
       "      <td>-1.514876</td>\n",
       "      <td>-3.221016</td>\n",
       "      <td>-1.300744</td>\n",
       "      <td>0.395599</td>\n",
       "      <td>-0.527994</td>\n",
       "      <td>1.353069</td>\n",
       "      <td>1.777506</td>\n",
       "      <td>-1.680870</td>\n",
       "      <td>1.798510</td>\n",
       "      <td>0.034272</td>\n",
       "    </tr>\n",
       "    <tr>\n",
       "      <th>997</th>\n",
       "      <td>1.674633</td>\n",
       "      <td>1.754933</td>\n",
       "      <td>1.586154</td>\n",
       "      <td>0.018402</td>\n",
       "      <td>-1.514470</td>\n",
       "      <td>0.321593</td>\n",
       "      <td>-2.417694</td>\n",
       "      <td>0.692723</td>\n",
       "      <td>-1.503850</td>\n",
       "      <td>0.225264</td>\n",
       "    </tr>\n",
       "    <tr>\n",
       "      <th>998</th>\n",
       "      <td>-0.778609</td>\n",
       "      <td>-0.835689</td>\n",
       "      <td>-0.194842</td>\n",
       "      <td>1.097220</td>\n",
       "      <td>0.180071</td>\n",
       "      <td>-0.272933</td>\n",
       "      <td>-0.533188</td>\n",
       "      <td>-0.497354</td>\n",
       "      <td>2.472138</td>\n",
       "      <td>0.867187</td>\n",
       "    </tr>\n",
       "    <tr>\n",
       "      <th>999</th>\n",
       "      <td>0.248454</td>\n",
       "      <td>-1.003439</td>\n",
       "      <td>0.360460</td>\n",
       "      <td>-0.331352</td>\n",
       "      <td>1.389764</td>\n",
       "      <td>-1.345210</td>\n",
       "      <td>-0.740875</td>\n",
       "      <td>0.773240</td>\n",
       "      <td>0.185734</td>\n",
       "      <td>1.416412</td>\n",
       "    </tr>\n",
       "  </tbody>\n",
       "</table>\n",
       "<p>1000 rows × 10 columns</p>\n",
       "</div>"
      ],
      "text/plain": [
       "            0         1         2         3         4         5         6  \\\n",
       "0    0.964799 -0.066449  0.986768 -0.358079  0.997266  1.181890 -1.615679   \n",
       "1   -0.916511 -0.566395 -1.008614  0.831617 -1.176962  1.820544  1.752375   \n",
       "2   -0.109484 -0.432774 -0.457649  0.793818 -0.268646 -1.836360  1.239086   \n",
       "3    1.750412  2.023606  1.688159  0.006800 -1.607661  0.184741 -2.619427   \n",
       "4   -0.224726 -0.711303 -0.220778  0.117124  1.536061  0.597538  0.348645   \n",
       "..        ...       ...       ...       ...       ...       ...       ...   \n",
       "995 -1.367638  1.462255 -1.154918 -0.290454 -0.413424  0.032396  1.545490   \n",
       "996 -1.514876 -3.221016 -1.300744  0.395599 -0.527994  1.353069  1.777506   \n",
       "997  1.674633  1.754933  1.586154  0.018402 -1.514470  0.321593 -2.417694   \n",
       "998 -0.778609 -0.835689 -0.194842  1.097220  0.180071 -0.272933 -0.533188   \n",
       "999  0.248454 -1.003439  0.360460 -0.331352  1.389764 -1.345210 -0.740875   \n",
       "\n",
       "            7         8         9  \n",
       "0   -1.210161 -0.628077  1.227274  \n",
       "1   -0.984534  0.363896  0.209470  \n",
       "2   -0.246383 -1.058145 -0.297376  \n",
       "3   -0.357445 -1.473127 -0.190039  \n",
       "4   -0.939156  0.175915  0.236224  \n",
       "..        ...       ...       ...  \n",
       "995  1.428760  1.687092  1.072542  \n",
       "996 -1.680870  1.798510  0.034272  \n",
       "997  0.692723 -1.503850  0.225264  \n",
       "998 -0.497354  2.472138  0.867187  \n",
       "999  0.773240  0.185734  1.416412  \n",
       "\n",
       "[1000 rows x 10 columns]"
      ]
     },
     "execution_count": 6,
     "metadata": {},
     "output_type": "execute_result"
    }
   ],
   "source": [
    "pd.DataFrame(x)"
   ]
  },
  {
   "cell_type": "markdown",
   "id": "cd2acec9-f4f9-472e-baab-1e142ed7dc6c",
   "metadata": {},
   "source": [
    "# **Split the dataset into training and testing sets (80-20 split)**"
   ]
  },
  {
   "cell_type": "code",
   "execution_count": 3,
   "id": "dc5ff803-935f-43dd-8b31-6b969265d9eb",
   "metadata": {},
   "outputs": [],
   "source": [
    "x_train, x_test, y_train, y_test=train_test_split(x,y,test_size=0.30,random_state=42)"
   ]
  },
  {
   "cell_type": "code",
   "execution_count": 4,
   "id": "85fed187-97d3-46e0-be16-6d80c7ca091e",
   "metadata": {},
   "outputs": [
    {
     "data": {
      "text/plain": [
       "array([[ 0.04446722,  0.91377162, -0.14972402, ...,  0.57407122,\n",
       "        -0.66673831,  1.58983898],\n",
       "       [ 0.41722807, -0.74594213,  0.6030946 , ..., -0.61453878,\n",
       "         0.30463008,  0.75341946],\n",
       "       [ 0.83868939,  0.86018264,  0.66388059, ...,  0.72508104,\n",
       "        -1.17953018, -1.15545179],\n",
       "       ...,\n",
       "       [ 0.04091467,  0.42796263, -0.00235298, ..., -1.92277177,\n",
       "        -0.17104772,  1.63925652],\n",
       "       [ 0.3393792 , -0.64015446,  0.25253995, ..., -1.39922826,\n",
       "        -0.52991248, -0.7348109 ],\n",
       "       [ 1.84815207, -0.31305803,  1.78069642, ...,  0.60451533,\n",
       "        -1.56102804, -1.25040773]])"
      ]
     },
     "execution_count": 4,
     "metadata": {},
     "output_type": "execute_result"
    }
   ],
   "source": [
    "x_train"
   ]
  },
  {
   "cell_type": "code",
   "execution_count": 7,
   "id": "79689130-90dd-4b94-bd07-dbd61b01360e",
   "metadata": {},
   "outputs": [
    {
     "data": {
      "text/plain": [
       "(700, 10)"
      ]
     },
     "execution_count": 7,
     "metadata": {},
     "output_type": "execute_result"
    }
   ],
   "source": [
    "x_train.shape"
   ]
  },
  {
   "cell_type": "code",
   "execution_count": 8,
   "id": "88238d76-21af-44d4-b2a8-af2dbceaf504",
   "metadata": {},
   "outputs": [
    {
     "data": {
      "text/plain": [
       "(300, 10)"
      ]
     },
     "execution_count": 8,
     "metadata": {},
     "output_type": "execute_result"
    }
   ],
   "source": [
    "x_test.shape"
   ]
  },
  {
   "cell_type": "code",
   "execution_count": 9,
   "id": "0c42082c-3dce-4b18-ac96-0607844e631f",
   "metadata": {},
   "outputs": [
    {
     "data": {
      "text/plain": [
       "(700,)"
      ]
     },
     "execution_count": 9,
     "metadata": {},
     "output_type": "execute_result"
    }
   ],
   "source": [
    "y_train.shape"
   ]
  },
  {
   "cell_type": "code",
   "execution_count": 10,
   "id": "2b1cc453-7717-4f3a-b8a5-2164a3429bc5",
   "metadata": {},
   "outputs": [
    {
     "data": {
      "text/plain": [
       "(300,)"
      ]
     },
     "execution_count": 10,
     "metadata": {},
     "output_type": "execute_result"
    }
   ],
   "source": [
    " y_test.shape"
   ]
  },
  {
   "cell_type": "code",
   "execution_count": null,
   "id": "4c558e1d-e291-4f2d-8840-90c697118756",
   "metadata": {},
   "outputs": [],
   "source": []
  }
 ],
 "metadata": {
  "kernelspec": {
   "display_name": "Python [conda env:base] *",
   "language": "python",
   "name": "conda-base-py"
  },
  "language_info": {
   "codemirror_mode": {
    "name": "ipython",
    "version": 3
   },
   "file_extension": ".py",
   "mimetype": "text/x-python",
   "name": "python",
   "nbconvert_exporter": "python",
   "pygments_lexer": "ipython3",
   "version": "3.12.7"
  }
 },
 "nbformat": 4,
 "nbformat_minor": 5
}
